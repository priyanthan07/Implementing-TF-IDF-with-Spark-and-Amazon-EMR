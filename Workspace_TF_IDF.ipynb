{
 "cells": [
  {
   "cell_type": "code",
   "execution_count": 53,
   "id": "f7b0e059-41d8-47ec-8269-ae1d06b9a6d5",
   "metadata": {
    "execution": {
     "iopub.execute_input": "2024-05-28T16:55:32.054956Z",
     "iopub.status.busy": "2024-05-28T16:55:32.054533Z",
     "iopub.status.idle": "2024-05-28T16:55:33.262335Z",
     "shell.execute_reply": "2024-05-28T16:55:33.261678Z",
     "shell.execute_reply.started": "2024-05-28T16:55:32.054925Z"
    },
    "tags": []
   },
   "outputs": [
    {
     "data": {
      "application/vnd.jupyter.widget-view+json": {
       "model_id": "7be0d34859cd44cb82760977766efc3a",
       "version_major": 2,
       "version_minor": 0
      },
      "text/plain": [
       "VBox()"
      ]
     },
     "metadata": {},
     "output_type": "display_data"
    },
    {
     "data": {
      "application/vnd.jupyter.widget-view+json": {
       "model_id": "",
       "version_major": 2,
       "version_minor": 0
      },
      "text/plain": [
       "FloatProgress(value=0.0, bar_style='info', description='Progress:', layout=Layout(height='25px', width='50%'),…"
      ]
     },
     "metadata": {},
     "output_type": "display_data"
    },
    {
     "name": "stdout",
     "output_type": "stream",
     "text": [
      "+---+--------------------+-------------------+--------------------+\n",
      "|_c0|                 _c1|                _c2|                 _c3|\n",
      "+---+--------------------+-------------------+--------------------+\n",
      "| 12|           Anarchism|2008-12-30 06:23:05|Anarchism (someti...|\n",
      "| 25|              Autism|2008-12-24 20:41:05|Autism is a brain...|\n",
      "| 39|              Albedo|2008-12-29 18:19:09|The albedo of an ...|\n",
      "|290|                   A|2008-12-27 04:33:16|The letter A is t...|\n",
      "|303|             Alabama|2008-12-29 08:15:47|Alabama (formally...|\n",
      "|305|            Achilles|2008-12-30 06:18:01|thumb\\n\\nIn Greek...|\n",
      "|307|     Abraham Lincoln|2008-12-28 20:18:23|Abraham Lincoln (...|\n",
      "|308|           Aristotle|2008-12-29 23:54:48|Aristotle (Greek:...|\n",
      "|309|An American in Paris|2008-09-27 19:29:28|An American in Pa...|\n",
      "|324|       Academy Award|2008-12-28 17:50:43|The Academy Award...|\n",
      "|330|             Actrius|2008-05-23 15:24:32|Actrius (Actresse...|\n",
      "|332|     Animalia (book)|2008-12-18 11:12:34|thumbAnimalia (IS...|\n",
      "|334|International Ato...|2008-11-21 22:40:20|International Ato...|\n",
      "|336|            Altruism|2008-12-27 03:57:17|Altruism is selfl...|\n",
      "|339|            Ayn Rand|2008-12-30 08:03:06|Ayn Rand (,  – Ma...|\n",
      "|340|        Alain Connes|2008-09-03 13:41:39|Alain Connes (bor...|\n",
      "|344|          Allan Dwan|2008-11-14 05:28:58|Allan Dwan (April...|\n",
      "|358|             Algeria|2008-12-29 02:54:36|Algeria (, al-Jaz...|\n",
      "|359|List of character...|2008-12-23 20:20:21|This is a list of...|\n",
      "|569|        Anthropology|2008-12-28 23:04:30|Anthropology (, f...|\n",
      "+---+--------------------+-------------------+--------------------+\n",
      "only showing top 20 rows"
     ]
    }
   ],
   "source": [
    "rawdata = spark.read.options(sep=\"\\t\").csv(\"s3://tf-idf-data/subset-small.tsv\")\n",
    "rawdata.show()"
   ]
  },
  {
   "cell_type": "code",
   "execution_count": 55,
   "id": "142fa6cc-ee31-4f04-a29d-43dce67d6fb2",
   "metadata": {
    "execution": {
     "iopub.execute_input": "2024-05-28T16:56:33.233553Z",
     "iopub.status.busy": "2024-05-28T16:56:33.233121Z",
     "iopub.status.idle": "2024-05-28T16:56:34.398316Z",
     "shell.execute_reply": "2024-05-28T16:56:34.397659Z",
     "shell.execute_reply.started": "2024-05-28T16:56:33.233524Z"
    },
    "tags": []
   },
   "outputs": [
    {
     "data": {
      "application/vnd.jupyter.widget-view+json": {
       "model_id": "91f04192bcc14fa5883f4d56210c954a",
       "version_major": 2,
       "version_minor": 0
      },
      "text/plain": [
       "VBox()"
      ]
     },
     "metadata": {},
     "output_type": "display_data"
    },
    {
     "data": {
      "application/vnd.jupyter.widget-view+json": {
       "model_id": "",
       "version_major": 2,
       "version_minor": 0
      },
      "text/plain": [
       "FloatProgress(value=0.0, bar_style='info', description='Progress:', layout=Layout(height='25px', width='50%'),…"
      ]
     },
     "metadata": {},
     "output_type": "display_data"
    },
    {
     "name": "stdout",
     "output_type": "stream",
     "text": [
      "1000"
     ]
    }
   ],
   "source": [
    "rawdata.count()"
   ]
  },
  {
   "cell_type": "code",
   "execution_count": 3,
   "id": "0fbe090b-b4de-42ef-8148-a81f98a13461",
   "metadata": {
    "execution": {
     "iopub.execute_input": "2024-05-28T16:18:55.201334Z",
     "iopub.status.busy": "2024-05-28T16:18:55.200895Z",
     "iopub.status.idle": "2024-05-28T16:18:56.168559Z",
     "shell.execute_reply": "2024-05-28T16:18:56.167874Z",
     "shell.execute_reply.started": "2024-05-28T16:18:55.201304Z"
    }
   },
   "outputs": [
    {
     "data": {
      "application/vnd.jupyter.widget-view+json": {
       "model_id": "853c3c9119da4fa383cb6c2cf2cb5381",
       "version_major": 2,
       "version_minor": 0
      },
      "text/plain": [
       "VBox()"
      ]
     },
     "metadata": {},
     "output_type": "display_data"
    },
    {
     "data": {
      "application/vnd.jupyter.widget-view+json": {
       "model_id": "",
       "version_major": 2,
       "version_minor": 0
      },
      "text/plain": [
       "FloatProgress(value=0.0, bar_style='info', description='Progress:', layout=Layout(height='25px', width='50%'),…"
      ]
     },
     "metadata": {},
     "output_type": "display_data"
    },
    {
     "name": "stdout",
     "output_type": "stream",
     "text": [
      "+---+--------------------+-------------------+--------------------+\n",
      "| ID|                Name|               Time|            Document|\n",
      "+---+--------------------+-------------------+--------------------+\n",
      "| 12|           Anarchism|2008-12-30 06:23:05|Anarchism (someti...|\n",
      "| 25|              Autism|2008-12-24 20:41:05|Autism is a brain...|\n",
      "| 39|              Albedo|2008-12-29 18:19:09|The albedo of an ...|\n",
      "|290|                   A|2008-12-27 04:33:16|The letter A is t...|\n",
      "|303|             Alabama|2008-12-29 08:15:47|Alabama (formally...|\n",
      "|305|            Achilles|2008-12-30 06:18:01|thumb\\n\\nIn Greek...|\n",
      "|307|     Abraham Lincoln|2008-12-28 20:18:23|Abraham Lincoln (...|\n",
      "|308|           Aristotle|2008-12-29 23:54:48|Aristotle (Greek:...|\n",
      "|309|An American in Paris|2008-09-27 19:29:28|An American in Pa...|\n",
      "|324|       Academy Award|2008-12-28 17:50:43|The Academy Award...|\n",
      "|330|             Actrius|2008-05-23 15:24:32|Actrius (Actresse...|\n",
      "|332|     Animalia (book)|2008-12-18 11:12:34|thumbAnimalia (IS...|\n",
      "|334|International Ato...|2008-11-21 22:40:20|International Ato...|\n",
      "|336|            Altruism|2008-12-27 03:57:17|Altruism is selfl...|\n",
      "|339|            Ayn Rand|2008-12-30 08:03:06|Ayn Rand (,  – Ma...|\n",
      "|340|        Alain Connes|2008-09-03 13:41:39|Alain Connes (bor...|\n",
      "|344|          Allan Dwan|2008-11-14 05:28:58|Allan Dwan (April...|\n",
      "|358|             Algeria|2008-12-29 02:54:36|Algeria (, al-Jaz...|\n",
      "|359|List of character...|2008-12-23 20:20:21|This is a list of...|\n",
      "|569|        Anthropology|2008-12-28 23:04:30|Anthropology (, f...|\n",
      "+---+--------------------+-------------------+--------------------+\n",
      "only showing top 20 rows"
     ]
    }
   ],
   "source": [
    "articles = rawdata.toDF(\"ID\", \"Name\", \"Time\", \"Document\")\n",
    "articles.show()"
   ]
  },
  {
   "cell_type": "code",
   "execution_count": 4,
   "id": "dadf0b8b-eae3-487f-9a41-dba6cbd573f4",
   "metadata": {
    "execution": {
     "iopub.execute_input": "2024-05-28T16:20:28.167456Z",
     "iopub.status.busy": "2024-05-28T16:20:28.166995Z",
     "iopub.status.idle": "2024-05-28T16:20:30.680094Z",
     "shell.execute_reply": "2024-05-28T16:20:30.679412Z",
     "shell.execute_reply.started": "2024-05-28T16:20:28.167426Z"
    }
   },
   "outputs": [
    {
     "data": {
      "application/vnd.jupyter.widget-view+json": {
       "model_id": "429a0b5104ad4f23bad8d3337f6ad49c",
       "version_major": 2,
       "version_minor": 0
      },
      "text/plain": [
       "VBox()"
      ]
     },
     "metadata": {},
     "output_type": "display_data"
    },
    {
     "data": {
      "application/vnd.jupyter.widget-view+json": {
       "model_id": "",
       "version_major": 2,
       "version_minor": 0
      },
      "text/plain": [
       "FloatProgress(value=0.0, bar_style='info', description='Progress:', layout=Layout(height='25px', width='50%'),…"
      ]
     },
     "metadata": {},
     "output_type": "display_data"
    },
    {
     "name": "stdout",
     "output_type": "stream",
     "text": [
      "1"
     ]
    }
   ],
   "source": [
    "articles.filter(articles.Document.isNull()).count()"
   ]
  },
  {
   "cell_type": "code",
   "execution_count": 6,
   "id": "dbe86931-3278-4f58-9fc0-2007936d420d",
   "metadata": {
    "execution": {
     "iopub.execute_input": "2024-05-28T16:23:30.682394Z",
     "iopub.status.busy": "2024-05-28T16:23:30.681954Z",
     "iopub.status.idle": "2024-05-28T16:23:31.652943Z",
     "shell.execute_reply": "2024-05-28T16:23:31.652278Z",
     "shell.execute_reply.started": "2024-05-28T16:23:30.682363Z"
    },
    "tags": []
   },
   "outputs": [
    {
     "data": {
      "application/vnd.jupyter.widget-view+json": {
       "model_id": "4c3b76fbba5f4786b164225420910739",
       "version_major": 2,
       "version_minor": 0
      },
      "text/plain": [
       "VBox()"
      ]
     },
     "metadata": {},
     "output_type": "display_data"
    },
    {
     "data": {
      "application/vnd.jupyter.widget-view+json": {
       "model_id": "",
       "version_major": 2,
       "version_minor": 0
      },
      "text/plain": [
       "FloatProgress(value=0.0, bar_style='info', description='Progress:', layout=Layout(height='25px', width='50%'),…"
      ]
     },
     "metadata": {},
     "output_type": "display_data"
    },
    {
     "name": "stdout",
     "output_type": "stream",
     "text": [
      "0"
     ]
    }
   ],
   "source": [
    "cleanedData = articles.filter(articles.Document.isNotNull())\n",
    "cleanedData.filter(articles.Document.isNull()).count()"
   ]
  },
  {
   "cell_type": "code",
   "execution_count": 8,
   "id": "bba4c146-70f2-497e-b98d-20f37d68b9ea",
   "metadata": {
    "execution": {
     "iopub.execute_input": "2024-05-28T16:25:19.211086Z",
     "iopub.status.busy": "2024-05-28T16:25:19.210640Z",
     "iopub.status.idle": "2024-05-28T16:25:19.406498Z",
     "shell.execute_reply": "2024-05-28T16:25:19.405876Z",
     "shell.execute_reply.started": "2024-05-28T16:25:19.211055Z"
    },
    "tags": []
   },
   "outputs": [
    {
     "data": {
      "application/vnd.jupyter.widget-view+json": {
       "model_id": "341bd0e46ae94f9e9375a02459d84345",
       "version_major": 2,
       "version_minor": 0
      },
      "text/plain": [
       "VBox()"
      ]
     },
     "metadata": {},
     "output_type": "display_data"
    },
    {
     "data": {
      "application/vnd.jupyter.widget-view+json": {
       "model_id": "",
       "version_major": 2,
       "version_minor": 0
      },
      "text/plain": [
       "FloatProgress(value=0.0, bar_style='info', description='Progress:', layout=Layout(height='25px', width='50%'),…"
      ]
     },
     "metadata": {},
     "output_type": "display_data"
    }
   ],
   "source": [
    "from pyspark.ml.feature import HashingTF, IDF, Tokenizer\n",
    "\n",
    "tokenizer= Tokenizer(inputCol=\"Document\", outputCol=\"Tokens\")\n",
    "TokenData = tokenizer.transform(cleanedData)"
   ]
  },
  {
   "cell_type": "code",
   "execution_count": 25,
   "id": "e04a7111-5b5a-4c80-af3c-daa109166ab6",
   "metadata": {
    "execution": {
     "iopub.execute_input": "2024-05-28T16:32:06.227771Z",
     "iopub.status.busy": "2024-05-28T16:32:06.227332Z",
     "iopub.status.idle": "2024-05-28T16:32:07.410949Z",
     "shell.execute_reply": "2024-05-28T16:32:07.410306Z",
     "shell.execute_reply.started": "2024-05-28T16:32:06.227742Z"
    },
    "tags": []
   },
   "outputs": [
    {
     "data": {
      "application/vnd.jupyter.widget-view+json": {
       "model_id": "f43abe4a167a41f5a58728742ca6fce2",
       "version_major": 2,
       "version_minor": 0
      },
      "text/plain": [
       "VBox()"
      ]
     },
     "metadata": {},
     "output_type": "display_data"
    },
    {
     "data": {
      "application/vnd.jupyter.widget-view+json": {
       "model_id": "",
       "version_major": 2,
       "version_minor": 0
      },
      "text/plain": [
       "FloatProgress(value=0.0, bar_style='info', description='Progress:', layout=Layout(height='25px', width='50%'),…"
      ]
     },
     "metadata": {},
     "output_type": "display_data"
    },
    {
     "name": "stdout",
     "output_type": "stream",
     "text": [
      "+--------------------+\n",
      "|            Document|\n",
      "+--------------------+\n",
      "|Anarchism (someti...|\n",
      "|Autism is a brain...|\n",
      "|The albedo of an ...|\n",
      "|The letter A is t...|\n",
      "|Alabama (formally...|\n",
      "+--------------------+\n",
      "only showing top 5 rows\n",
      "\n",
      "+--------------------+\n",
      "|              Tokens|\n",
      "+--------------------+\n",
      "|[anarchism, (some...|\n",
      "|[autism, is, a, b...|\n",
      "|[the, albedo, of,...|\n",
      "|[the, letter, a, ...|\n",
      "|[alabama, (formal...|\n",
      "+--------------------+\n",
      "only showing top 5 rows\n",
      "\n",
      "(None, None)"
     ]
    }
   ],
   "source": [
    "TokenData.select(\"Document\").show(5,truncate=True), TokenData.select(\"Tokens\").show(5,truncate=True)"
   ]
  },
  {
   "cell_type": "code",
   "execution_count": 26,
   "id": "2192df5c-b3bf-475d-b21a-a4cdcf151456",
   "metadata": {
    "execution": {
     "iopub.execute_input": "2024-05-28T16:32:21.337540Z",
     "iopub.status.busy": "2024-05-28T16:32:21.337072Z",
     "iopub.status.idle": "2024-05-28T16:32:22.505774Z",
     "shell.execute_reply": "2024-05-28T16:32:22.505103Z",
     "shell.execute_reply.started": "2024-05-28T16:32:21.337508Z"
    },
    "tags": []
   },
   "outputs": [
    {
     "data": {
      "application/vnd.jupyter.widget-view+json": {
       "model_id": "74dc109b45cc4f8ba82869cbd9a9ea0c",
       "version_major": 2,
       "version_minor": 0
      },
      "text/plain": [
       "VBox()"
      ]
     },
     "metadata": {},
     "output_type": "display_data"
    },
    {
     "data": {
      "application/vnd.jupyter.widget-view+json": {
       "model_id": "",
       "version_major": 2,
       "version_minor": 0
      },
      "text/plain": [
       "FloatProgress(value=0.0, bar_style='info', description='Progress:', layout=Layout(height='25px', width='50%'),…"
      ]
     },
     "metadata": {},
     "output_type": "display_data"
    },
    {
     "name": "stdout",
     "output_type": "stream",
     "text": [
      "+---+--------------------+-------------------+--------------------+--------------------+--------------------+\n",
      "| ID|                Name|               Time|            Document|              Tokens|      FeatureVectors|\n",
      "+---+--------------------+-------------------+--------------------+--------------------+--------------------+\n",
      "| 12|           Anarchism|2008-12-30 06:23:05|Anarchism (someti...|[anarchism, (some...|(262144,[116,120,...|\n",
      "| 25|              Autism|2008-12-24 20:41:05|Autism is a brain...|[autism, is, a, b...|(262144,[521,1546...|\n",
      "| 39|              Albedo|2008-12-29 18:19:09|The albedo of an ...|[the, albedo, of,...|(262144,[1625,179...|\n",
      "|290|                   A|2008-12-27 04:33:16|The letter A is t...|[the, letter, a, ...|(262144,[5303,603...|\n",
      "|303|             Alabama|2008-12-29 08:15:47|Alabama (formally...|[alabama, (formal...|(262144,[93,115,3...|\n",
      "|305|            Achilles|2008-12-30 06:18:01|thumb\\n\\nIn Greek...|[thumb\\n\\nin, gre...|(262144,[305,991,...|\n",
      "|307|     Abraham Lincoln|2008-12-28 20:18:23|Abraham Lincoln (...|[abraham, lincoln...|(262144,[115,440,...|\n",
      "|308|           Aristotle|2008-12-29 23:54:48|Aristotle (Greek:...|[aristotle, (gree...|(262144,[154,619,...|\n",
      "|309|An American in Paris|2008-09-27 19:29:28|An American in Pa...|[an, american, in...|(262144,[2366,313...|\n",
      "|324|       Academy Award|2008-12-28 17:50:43|The Academy Award...|[the, academy, aw...|(262144,[161,521,...|\n",
      "|330|             Actrius|2008-05-23 15:24:32|Actrius (Actresse...|[actrius, (actres...|(262144,[6558,674...|\n",
      "|332|     Animalia (book)|2008-12-18 11:12:34|thumbAnimalia (IS...|[thumbanimalia, (...|(262144,[2284,609...|\n",
      "|334|International Ato...|2008-11-21 22:40:20|International Ato...|[international, a...|(262144,[847,925,...|\n",
      "|336|            Altruism|2008-12-27 03:57:17|Altruism is selfl...|[altruism, is, se...|(262144,[521,1272...|\n",
      "|339|            Ayn Rand|2008-12-30 08:03:06|Ayn Rand (,  – Ma...|[ayn, rand, (,, ,...|(262144,[116,365,...|\n",
      "|340|        Alain Connes|2008-09-03 13:41:39|Alain Connes (bor...|[alain, connes, (...|(262144,[154,1595...|\n",
      "|344|          Allan Dwan|2008-11-14 05:28:58|Allan Dwan (April...|[allan, dwan, (ap...|(262144,[1578,181...|\n",
      "|358|             Algeria|2008-12-29 02:54:36|Algeria (, al-Jaz...|[algeria, (,, al-...|(262144,[161,369,...|\n",
      "|359|List of character...|2008-12-23 20:20:21|This is a list of...|[this, is, a, lis...|(262144,[19,120,3...|\n",
      "|569|        Anthropology|2008-12-28 23:04:30|Anthropology (, f...|[anthropology, (,...|(262144,[154,528,...|\n",
      "+---+--------------------+-------------------+--------------------+--------------------+--------------------+\n",
      "only showing top 20 rows"
     ]
    }
   ],
   "source": [
    "hashingTF = HashingTF(inputCol=\"Tokens\", outputCol=\"FeatureVectors\")\n",
    "featurizedData = hashingTF.transform(TokenData)\n",
    "featurizedData.show()"
   ]
  },
  {
   "cell_type": "code",
   "execution_count": 28,
   "id": "b8e1caa3-54f6-4f62-a909-c686fd8ff048",
   "metadata": {
    "execution": {
     "iopub.execute_input": "2024-05-28T16:34:39.140014Z",
     "iopub.status.busy": "2024-05-28T16:34:39.139543Z",
     "iopub.status.idle": "2024-05-28T16:34:41.925137Z",
     "shell.execute_reply": "2024-05-28T16:34:41.924409Z",
     "shell.execute_reply.started": "2024-05-28T16:34:39.139954Z"
    },
    "tags": []
   },
   "outputs": [
    {
     "data": {
      "application/vnd.jupyter.widget-view+json": {
       "model_id": "acae17ad16ff4c8faa579f7d28070141",
       "version_major": 2,
       "version_minor": 0
      },
      "text/plain": [
       "VBox()"
      ]
     },
     "metadata": {},
     "output_type": "display_data"
    },
    {
     "data": {
      "application/vnd.jupyter.widget-view+json": {
       "model_id": "",
       "version_major": 2,
       "version_minor": 0
      },
      "text/plain": [
       "FloatProgress(value=0.0, bar_style='info', description='Progress:', layout=Layout(height='25px', width='50%'),…"
      ]
     },
     "metadata": {},
     "output_type": "display_data"
    }
   ],
   "source": [
    "idf = IDF(inputCol=\"FeatureVectors\", outputCol=\"Features\")\n",
    "idfModel = idf.fit(featurizedData)\n",
    "rescaledData = idfModel.transform(featurizedData)"
   ]
  },
  {
   "cell_type": "code",
   "execution_count": 29,
   "id": "b4233834-e93a-4250-8ea2-093739d202a5",
   "metadata": {
    "execution": {
     "iopub.execute_input": "2024-05-28T16:34:48.630077Z",
     "iopub.status.busy": "2024-05-28T16:34:48.629640Z",
     "iopub.status.idle": "2024-05-28T16:34:49.808899Z",
     "shell.execute_reply": "2024-05-28T16:34:49.808191Z",
     "shell.execute_reply.started": "2024-05-28T16:34:48.630044Z"
    }
   },
   "outputs": [
    {
     "data": {
      "application/vnd.jupyter.widget-view+json": {
       "model_id": "5b93f5a904ed4984a955dee9799615f0",
       "version_major": 2,
       "version_minor": 0
      },
      "text/plain": [
       "VBox()"
      ]
     },
     "metadata": {},
     "output_type": "display_data"
    },
    {
     "data": {
      "application/vnd.jupyter.widget-view+json": {
       "model_id": "",
       "version_major": 2,
       "version_minor": 0
      },
      "text/plain": [
       "FloatProgress(value=0.0, bar_style='info', description='Progress:', layout=Layout(height='25px', width='50%'),…"
      ]
     },
     "metadata": {},
     "output_type": "display_data"
    },
    {
     "name": "stdout",
     "output_type": "stream",
     "text": [
      "+---+--------------------+-------------------+--------------------+--------------------+--------------------+--------------------+\n",
      "| ID|                Name|               Time|            Document|              Tokens|      FeatureVectors|            Features|\n",
      "+---+--------------------+-------------------+--------------------+--------------------+--------------------+--------------------+\n",
      "| 12|           Anarchism|2008-12-30 06:23:05|Anarchism (someti...|[anarchism, (some...|(262144,[116,120,...|(262144,[116,120,...|\n",
      "| 25|              Autism|2008-12-24 20:41:05|Autism is a brain...|[autism, is, a, b...|(262144,[521,1546...|(262144,[521,1546...|\n",
      "| 39|              Albedo|2008-12-29 18:19:09|The albedo of an ...|[the, albedo, of,...|(262144,[1625,179...|(262144,[1625,179...|\n",
      "|290|                   A|2008-12-27 04:33:16|The letter A is t...|[the, letter, a, ...|(262144,[5303,603...|(262144,[5303,603...|\n",
      "|303|             Alabama|2008-12-29 08:15:47|Alabama (formally...|[alabama, (formal...|(262144,[93,115,3...|(262144,[93,115,3...|\n",
      "|305|            Achilles|2008-12-30 06:18:01|thumb\\n\\nIn Greek...|[thumb\\n\\nin, gre...|(262144,[305,991,...|(262144,[305,991,...|\n",
      "|307|     Abraham Lincoln|2008-12-28 20:18:23|Abraham Lincoln (...|[abraham, lincoln...|(262144,[115,440,...|(262144,[115,440,...|\n",
      "|308|           Aristotle|2008-12-29 23:54:48|Aristotle (Greek:...|[aristotle, (gree...|(262144,[154,619,...|(262144,[154,619,...|\n",
      "|309|An American in Paris|2008-09-27 19:29:28|An American in Pa...|[an, american, in...|(262144,[2366,313...|(262144,[2366,313...|\n",
      "|324|       Academy Award|2008-12-28 17:50:43|The Academy Award...|[the, academy, aw...|(262144,[161,521,...|(262144,[161,521,...|\n",
      "|330|             Actrius|2008-05-23 15:24:32|Actrius (Actresse...|[actrius, (actres...|(262144,[6558,674...|(262144,[6558,674...|\n",
      "|332|     Animalia (book)|2008-12-18 11:12:34|thumbAnimalia (IS...|[thumbanimalia, (...|(262144,[2284,609...|(262144,[2284,609...|\n",
      "|334|International Ato...|2008-11-21 22:40:20|International Ato...|[international, a...|(262144,[847,925,...|(262144,[847,925,...|\n",
      "|336|            Altruism|2008-12-27 03:57:17|Altruism is selfl...|[altruism, is, se...|(262144,[521,1272...|(262144,[521,1272...|\n",
      "|339|            Ayn Rand|2008-12-30 08:03:06|Ayn Rand (,  – Ma...|[ayn, rand, (,, ,...|(262144,[116,365,...|(262144,[116,365,...|\n",
      "|340|        Alain Connes|2008-09-03 13:41:39|Alain Connes (bor...|[alain, connes, (...|(262144,[154,1595...|(262144,[154,1595...|\n",
      "|344|          Allan Dwan|2008-11-14 05:28:58|Allan Dwan (April...|[allan, dwan, (ap...|(262144,[1578,181...|(262144,[1578,181...|\n",
      "|358|             Algeria|2008-12-29 02:54:36|Algeria (, al-Jaz...|[algeria, (,, al-...|(262144,[161,369,...|(262144,[161,369,...|\n",
      "|359|List of character...|2008-12-23 20:20:21|This is a list of...|[this, is, a, lis...|(262144,[19,120,3...|(262144,[19,120,3...|\n",
      "|569|        Anthropology|2008-12-28 23:04:30|Anthropology (, f...|[anthropology, (,...|(262144,[154,528,...|(262144,[154,528,...|\n",
      "+---+--------------------+-------------------+--------------------+--------------------+--------------------+--------------------+\n",
      "only showing top 20 rows"
     ]
    }
   ],
   "source": [
    "rescaledData.show()"
   ]
  },
  {
   "cell_type": "code",
   "execution_count": 41,
   "id": "779b1d96-1118-45f7-9ee7-fa80d061e5e7",
   "metadata": {
    "execution": {
     "iopub.execute_input": "2024-05-28T16:52:12.096212Z",
     "iopub.status.busy": "2024-05-28T16:52:12.095752Z",
     "iopub.status.idle": "2024-05-28T16:52:13.283204Z",
     "shell.execute_reply": "2024-05-28T16:52:13.282547Z",
     "shell.execute_reply.started": "2024-05-28T16:52:12.096181Z"
    },
    "tags": []
   },
   "outputs": [
    {
     "data": {
      "application/vnd.jupyter.widget-view+json": {
       "model_id": "ea567f2827b7418a86738aba9419ec1f",
       "version_major": 2,
       "version_minor": 0
      },
      "text/plain": [
       "VBox()"
      ]
     },
     "metadata": {},
     "output_type": "display_data"
    },
    {
     "data": {
      "application/vnd.jupyter.widget-view+json": {
       "model_id": "",
       "version_major": 2,
       "version_minor": 0
      },
      "text/plain": [
       "FloatProgress(value=0.0, bar_style='info', description='Progress:', layout=Layout(height='25px', width='50%'),…"
      ]
     },
     "metadata": {},
     "output_type": "display_data"
    },
    {
     "name": "stdout",
     "output_type": "stream",
     "text": [
      "+---------+\n",
      "|   Tokens|\n",
      "+---------+\n",
      "|[abraham]|\n",
      "+---------+"
     ]
    }
   ],
   "source": [
    "from pyspark.sql.types import *\n",
    "\n",
    "schema = StructType([StructField(\"Tokens\", ArrayType(StringType()))])\n",
    "\n",
    "df = spark.createDataFrame(([[[\"abraham\"]]]), schema).toDF(\"Tokens\")\n",
    "df.show()\n",
    "\n"
   ]
  },
  {
   "cell_type": "code",
   "execution_count": 46,
   "id": "f62e61b5-d990-4960-b457-173b2c72b11a",
   "metadata": {
    "execution": {
     "iopub.execute_input": "2024-05-28T16:52:58.335273Z",
     "iopub.status.busy": "2024-05-28T16:52:58.334816Z",
     "iopub.status.idle": "2024-05-28T16:52:59.553751Z",
     "shell.execute_reply": "2024-05-28T16:52:59.553108Z",
     "shell.execute_reply.started": "2024-05-28T16:52:58.335241Z"
    },
    "tags": []
   },
   "outputs": [
    {
     "data": {
      "application/vnd.jupyter.widget-view+json": {
       "model_id": "a242146f2be2454f84339062bf4e4cea",
       "version_major": 2,
       "version_minor": 0
      },
      "text/plain": [
       "VBox()"
      ]
     },
     "metadata": {},
     "output_type": "display_data"
    },
    {
     "data": {
      "application/vnd.jupyter.widget-view+json": {
       "model_id": "",
       "version_major": 2,
       "version_minor": 0
      },
      "text/plain": [
       "FloatProgress(value=0.0, bar_style='info', description='Progress:', layout=Layout(height='25px', width='50%'),…"
      ]
     },
     "metadata": {},
     "output_type": "display_data"
    },
    {
     "name": "stdout",
     "output_type": "stream",
     "text": [
      "+---------+--------------------+\n",
      "|   Tokens|      FeatureVectors|\n",
      "+---------+--------------------+\n",
      "|[abraham]|(262144,[206934],...|\n",
      "+---------+--------------------+"
     ]
    }
   ],
   "source": [
    "abraham = hashingTF.transform(df)\n",
    "abraham.show()\n",
    "\n"
   ]
  },
  {
   "cell_type": "code",
   "execution_count": 47,
   "id": "59b0ce71-519c-48eb-bfc1-53c7182222ed",
   "metadata": {
    "execution": {
     "iopub.execute_input": "2024-05-28T16:53:15.601474Z",
     "iopub.status.busy": "2024-05-28T16:53:15.601026Z",
     "iopub.status.idle": "2024-05-28T16:53:16.256997Z",
     "shell.execute_reply": "2024-05-28T16:53:16.256343Z",
     "shell.execute_reply.started": "2024-05-28T16:53:15.601443Z"
    },
    "tags": []
   },
   "outputs": [
    {
     "data": {
      "application/vnd.jupyter.widget-view+json": {
       "model_id": "0f8c19dd155440b5a2e3620e67c3da7c",
       "version_major": 2,
       "version_minor": 0
      },
      "text/plain": [
       "VBox()"
      ]
     },
     "metadata": {},
     "output_type": "display_data"
    },
    {
     "data": {
      "application/vnd.jupyter.widget-view+json": {
       "model_id": "",
       "version_major": 2,
       "version_minor": 0
      },
      "text/plain": [
       "FloatProgress(value=0.0, bar_style='info', description='Progress:', layout=Layout(height='25px', width='50%'),…"
      ]
     },
     "metadata": {},
     "output_type": "display_data"
    },
    {
     "name": "stdout",
     "output_type": "stream",
     "text": [
      "[Row(FeatureVectors=SparseVector(262144, {206934: 1.0}))]\n",
      "206934"
     ]
    }
   ],
   "source": [
    "featureVec = abraham.select('FeatureVectors').collect()\n",
    "print(featureVec)\n",
    "\n",
    "abrahamID = int(featureVec[0].FeatureVectors.indices[0])\n",
    "print(abrahamID)"
   ]
  },
  {
   "cell_type": "code",
   "execution_count": 48,
   "id": "ef89e806-7cdb-4eba-904a-b9226a35b820",
   "metadata": {
    "execution": {
     "iopub.execute_input": "2024-05-28T16:53:39.635260Z",
     "iopub.status.busy": "2024-05-28T16:53:39.634809Z",
     "iopub.status.idle": "2024-05-28T16:53:41.363732Z",
     "shell.execute_reply": "2024-05-28T16:53:41.362998Z",
     "shell.execute_reply.started": "2024-05-28T16:53:39.635228Z"
    },
    "tags": []
   },
   "outputs": [
    {
     "data": {
      "application/vnd.jupyter.widget-view+json": {
       "model_id": "1e32b2c4183d46bba6ee2f9a7f7df70e",
       "version_major": 2,
       "version_minor": 0
      },
      "text/plain": [
       "VBox()"
      ]
     },
     "metadata": {},
     "output_type": "display_data"
    },
    {
     "data": {
      "application/vnd.jupyter.widget-view+json": {
       "model_id": "",
       "version_major": 2,
       "version_minor": 0
      },
      "text/plain": [
       "FloatProgress(value=0.0, bar_style='info', description='Progress:', layout=Layout(height='25px', width='50%'),…"
      ]
     },
     "metadata": {},
     "output_type": "display_data"
    },
    {
     "name": "stdout",
     "output_type": "stream",
     "text": [
      "+---+--------------------+-------------------+--------------------+--------------------+--------------------+--------------------+-------------+\n",
      "| ID|                Name|               Time|            Document|              Tokens|      FeatureVectors|            Features|abraham_score|\n",
      "+---+--------------------+-------------------+--------------------+--------------------+--------------------+--------------------+-------------+\n",
      "| 12|           Anarchism|2008-12-30 06:23:05|Anarchism (someti...|[anarchism, (some...|(262144,[116,120,...|(262144,[116,120,...|          0.0|\n",
      "| 25|              Autism|2008-12-24 20:41:05|Autism is a brain...|[autism, is, a, b...|(262144,[521,1546...|(262144,[521,1546...|          0.0|\n",
      "| 39|              Albedo|2008-12-29 18:19:09|The albedo of an ...|[the, albedo, of,...|(262144,[1625,179...|(262144,[1625,179...|          0.0|\n",
      "|290|                   A|2008-12-27 04:33:16|The letter A is t...|[the, letter, a, ...|(262144,[5303,603...|(262144,[5303,603...|          0.0|\n",
      "|303|             Alabama|2008-12-29 08:15:47|Alabama (formally...|[alabama, (formal...|(262144,[93,115,3...|(262144,[93,115,3...|          0.0|\n",
      "|305|            Achilles|2008-12-30 06:18:01|thumb\\n\\nIn Greek...|[thumb\\n\\nin, gre...|(262144,[305,991,...|(262144,[305,991,...|          0.0|\n",
      "|307|     Abraham Lincoln|2008-12-28 20:18:23|Abraham Lincoln (...|[abraham, lincoln...|(262144,[115,440,...|(262144,[115,440,...|    46.944275|\n",
      "|308|           Aristotle|2008-12-29 23:54:48|Aristotle (Greek:...|[aristotle, (gree...|(262144,[154,619,...|(262144,[154,619,...|          0.0|\n",
      "|309|An American in Paris|2008-09-27 19:29:28|An American in Pa...|[an, american, in...|(262144,[2366,313...|(262144,[2366,313...|          0.0|\n",
      "|324|       Academy Award|2008-12-28 17:50:43|The Academy Award...|[the, academy, aw...|(262144,[161,521,...|(262144,[161,521,...|          0.0|\n",
      "|330|             Actrius|2008-05-23 15:24:32|Actrius (Actresse...|[actrius, (actres...|(262144,[6558,674...|(262144,[6558,674...|          0.0|\n",
      "|332|     Animalia (book)|2008-12-18 11:12:34|thumbAnimalia (IS...|[thumbanimalia, (...|(262144,[2284,609...|(262144,[2284,609...|          0.0|\n",
      "|334|International Ato...|2008-11-21 22:40:20|International Ato...|[international, a...|(262144,[847,925,...|(262144,[847,925,...|          0.0|\n",
      "|336|            Altruism|2008-12-27 03:57:17|Altruism is selfl...|[altruism, is, se...|(262144,[521,1272...|(262144,[521,1272...|          0.0|\n",
      "|339|            Ayn Rand|2008-12-30 08:03:06|Ayn Rand (,  – Ma...|[ayn, rand, (,, ,...|(262144,[116,365,...|(262144,[116,365,...|          0.0|\n",
      "|340|        Alain Connes|2008-09-03 13:41:39|Alain Connes (bor...|[alain, connes, (...|(262144,[154,1595...|(262144,[154,1595...|          0.0|\n",
      "|344|          Allan Dwan|2008-11-14 05:28:58|Allan Dwan (April...|[allan, dwan, (ap...|(262144,[1578,181...|(262144,[1578,181...|          0.0|\n",
      "|358|             Algeria|2008-12-29 02:54:36|Algeria (, al-Jaz...|[algeria, (,, al-...|(262144,[161,369,...|(262144,[161,369,...|          0.0|\n",
      "|359|List of character...|2008-12-23 20:20:21|This is a list of...|[this, is, a, lis...|(262144,[19,120,3...|(262144,[19,120,3...|          0.0|\n",
      "|569|        Anthropology|2008-12-28 23:04:30|Anthropology (, f...|[anthropology, (,...|(262144,[154,528,...|(262144,[154,528,...|          0.0|\n",
      "+---+--------------------+-------------------+--------------------+--------------------+--------------------+--------------------+-------------+\n",
      "only showing top 20 rows"
     ]
    }
   ],
   "source": [
    "from pyspark.sql.types import FloatType\n",
    "from pyspark.sql.functions import udf\n",
    "\n",
    "termExtractor = udf(lambda x: float(x[abrahamID]), FloatType())\n",
    "abrahamDF = rescaledData.withColumn('abraham_score', termExtractor(rescaledData.Features))\n",
    "\n",
    "abrahamDF.show()\n",
    "                          "
   ]
  },
  {
   "cell_type": "code",
   "execution_count": 50,
   "id": "f3010b27-d18d-406f-8eb1-ea8f584d58d3",
   "metadata": {
    "execution": {
     "iopub.execute_input": "2024-05-28T16:54:22.413553Z",
     "iopub.status.busy": "2024-05-28T16:54:22.413113Z",
     "iopub.status.idle": "2024-05-28T16:54:25.119623Z",
     "shell.execute_reply": "2024-05-28T16:54:25.118994Z",
     "shell.execute_reply.started": "2024-05-28T16:54:22.413519Z"
    },
    "tags": []
   },
   "outputs": [
    {
     "data": {
      "application/vnd.jupyter.widget-view+json": {
       "model_id": "70f9b60b0b4c41c29057871642aff667",
       "version_major": 2,
       "version_minor": 0
      },
      "text/plain": [
       "VBox()"
      ]
     },
     "metadata": {},
     "output_type": "display_data"
    },
    {
     "data": {
      "application/vnd.jupyter.widget-view+json": {
       "model_id": "",
       "version_major": 2,
       "version_minor": 0
      },
      "text/plain": [
       "FloatProgress(value=0.0, bar_style='info', description='Progress:', layout=Layout(height='25px', width='50%'),…"
      ]
     },
     "metadata": {},
     "output_type": "display_data"
    },
    {
     "name": "stdout",
     "output_type": "stream",
     "text": [
      "+----+-----------------------------+----------------------------------------------------------------------------------------------------+-------------+\n",
      "|  ID|                         Name|                                                                                            Document|abraham_score|\n",
      "+----+-----------------------------+----------------------------------------------------------------------------------------------------+-------------+\n",
      "|1436|                      Abraham|thumb Abraham (  Avrohom or Avruhom ; ,  ; Ge'ez: , ) is a man featured in the Book of Genesis an...|     324.6979|\n",
      "| 307|              Abraham Lincoln|Abraham Lincoln (February 12, 1809 – April 15, 1865) was the sixteenth President of the United St...|    46.944275|\n",
      "|1624|               Andrew Johnson|Andrew Johnson (December 29, 1808 – July 31, 1875) was the seventeenth President of the United St...|    15.648092|\n",
      "| 863|           American Civil War|The American Civil War (1861–1865), also known as the War Between the States and several other na...|    15.648092|\n",
      "|1006|                        Aaron|thumb\\n\\nIn the Bible, Aaron (), or Aaron the Levite (אהרֹן הלוי), was the brother of Moses. He w...|    11.736069|\n",
      "|2154|             African American|African Americans or Black Americans are citizens or residents of the United States who have orig...|     7.824046|\n",
      "|1178|                    Afterlife|320pxThe afterlife (also:  life after death and hereafter) is the proposed continued existence of...|     7.824046|\n",
      "|1445|                       Acacia|Acacia is a genus of shrub and tree belonging to the subfamily Mimosoideae of the family Fabaceae...|     3.912023|\n",
      "|2130|                   Aesthetics|Aesthetics or esthetics (also spelled æsthetics) is commonly known as the study of sensory or sen...|     3.912023|\n",
      "|1923|             Alessandro Volta|Count Alessandro Giuseppe Antonio Anastasio Volta (February 18 1745 – March 5 1827) was a Lombard...|     3.912023|\n",
      "| 691|    Articles of Confederation|The Articles of Confederation and Perpetual Union (commonly referred to as the Articles of Confed...|     3.912023|\n",
      "|1930|                     Arkansas|Arkansas () is a state located in the southern region of the United States. Arkansas shares a bor...|     3.912023|\n",
      "|2210|Folklore of the United States|The folklore of the United States, or American folklore, is one of the folk traditions which has ...|     3.912023|\n",
      "| 736|              Albert Einstein|Albert Einstein (German: ; English: ) (14 March 1879 – 18 April 1955) was a German-born theoretic...|     3.912023|\n",
      "|2310|                Arthur Miller| \\n\\nArthur Miller (October 17, 1915 – February 10, 2005) was an American playwright and essayist...|     3.912023|\n",
      "|1135|              Abner Doubleday|Abner Doubleday (June 26, 1819 – January 26, 1893) was a career United States Army officer and Un...|     3.912023|\n",
      "|2335|              Adamic language|The Adamic language is, according to Abrahamic traditions, the language spoken by Adam and Eve in...|     3.912023|\n",
      "|1182|                       Athena|In Greek mythology, Athena (also called Athene, Attic: , Athēnâ, or , Athḗnē; Doric: , Asána; Lat...|     3.912023|\n",
      "|2368|        Anglo-Saxon Chronicle|thumbThe Anglo-Saxon Chronicle is a collection of annals in Old English chronicling the history o...|     3.912023|\n",
      "+----+-----------------------------+----------------------------------------------------------------------------------------------------+-------------+"
     ]
    }
   ],
   "source": [
    "sortedResults = abrahamDF.filter(\"abraham_score > 0\").orderBy('abraham_score', ascending=False).select('ID', 'Name', 'Document', 'abraham_score')\n",
    "sortedResults.show(truncate=100)"
   ]
  },
  {
   "cell_type": "code",
   "execution_count": null,
   "id": "077153b4-f768-4e86-8c04-3c15ef65fd2d",
   "metadata": {},
   "outputs": [],
   "source": []
  }
 ],
 "metadata": {
  "kernelspec": {
   "display_name": "PySpark",
   "language": "python",
   "name": "spark_magic_pyspark"
  },
  "language_info": {
   "codemirror_mode": {
    "name": "python",
    "version": 3
   },
   "file_extension": ".py",
   "mimetype": "text/x-python",
   "name": "pyspark",
   "pygments_lexer": "python3"
  }
 },
 "nbformat": 4,
 "nbformat_minor": 5
}
